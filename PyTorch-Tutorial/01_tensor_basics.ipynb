{
 "cells": [
  {
   "cell_type": "code",
   "execution_count": 1,
   "id": "fdc447e5",
   "metadata": {},
   "outputs": [],
   "source": [
    "import torch"
   ]
  },
  {
   "cell_type": "code",
   "execution_count": 67,
   "id": "8548ce34",
   "metadata": {},
   "outputs": [],
   "source": [
    "import numpy as np"
   ]
  },
  {
   "cell_type": "code",
   "execution_count": 17,
   "id": "d5875c96",
   "metadata": {},
   "outputs": [],
   "source": [
    "x = torch.empty(3,3, dtype=int)"
   ]
  },
  {
   "cell_type": "code",
   "execution_count": 27,
   "id": "8b1c6ddc",
   "metadata": {},
   "outputs": [],
   "source": [
    "x = torch.rand(2,2)\n",
    "y = torch.rand(2,2)"
   ]
  },
  {
   "cell_type": "code",
   "execution_count": 28,
   "id": "7d665045",
   "metadata": {},
   "outputs": [
    {
     "data": {
      "text/plain": [
       "tensor([[0.6842, 0.2788],\n",
       "        [0.3200, 0.3794]])"
      ]
     },
     "execution_count": 28,
     "metadata": {},
     "output_type": "execute_result"
    }
   ],
   "source": [
    "x"
   ]
  },
  {
   "cell_type": "code",
   "execution_count": 29,
   "id": "da30acd3",
   "metadata": {},
   "outputs": [
    {
     "data": {
      "text/plain": [
       "tensor([[0.8319, 0.9038],\n",
       "        [0.9007, 0.0016]])"
      ]
     },
     "execution_count": 29,
     "metadata": {},
     "output_type": "execute_result"
    }
   ],
   "source": [
    "y"
   ]
  },
  {
   "cell_type": "code",
   "execution_count": 30,
   "id": "effafe6f",
   "metadata": {},
   "outputs": [
    {
     "data": {
      "text/plain": [
       "tensor([[1.5161, 1.1826],\n",
       "        [1.2207, 0.3809]])"
      ]
     },
     "execution_count": 30,
     "metadata": {},
     "output_type": "execute_result"
    }
   ],
   "source": [
    "x + y"
   ]
  },
  {
   "cell_type": "code",
   "execution_count": 31,
   "id": "cc511082",
   "metadata": {},
   "outputs": [
    {
     "data": {
      "text/plain": [
       "tensor([[0.6842, 0.2788],\n",
       "        [0.3200, 0.3794]])"
      ]
     },
     "execution_count": 31,
     "metadata": {},
     "output_type": "execute_result"
    }
   ],
   "source": [
    "x"
   ]
  },
  {
   "cell_type": "markdown",
   "id": "7256a641",
   "metadata": {},
   "source": [
    "underscores \"_\" refers to inplace operation"
   ]
  },
  {
   "cell_type": "code",
   "execution_count": 32,
   "id": "2f0027f9",
   "metadata": {},
   "outputs": [
    {
     "data": {
      "text/plain": [
       "tensor([[1.5161, 1.1826],\n",
       "        [1.2207, 0.3809]])"
      ]
     },
     "execution_count": 32,
     "metadata": {},
     "output_type": "execute_result"
    }
   ],
   "source": [
    "x.add_(y)"
   ]
  },
  {
   "cell_type": "code",
   "execution_count": 33,
   "id": "d6d525a8",
   "metadata": {},
   "outputs": [
    {
     "data": {
      "text/plain": [
       "tensor([[1.5161, 1.1826],\n",
       "        [1.2207, 0.3809]])"
      ]
     },
     "execution_count": 33,
     "metadata": {},
     "output_type": "execute_result"
    }
   ],
   "source": [
    "x"
   ]
  },
  {
   "cell_type": "markdown",
   "id": "406e9e21",
   "metadata": {},
   "source": [
    "### Elementwise Operations"
   ]
  },
  {
   "cell_type": "code",
   "execution_count": 38,
   "id": "9cfeab61",
   "metadata": {},
   "outputs": [],
   "source": [
    "x = torch.rand(2,2)\n",
    "y = torch.rand(2,2)"
   ]
  },
  {
   "cell_type": "code",
   "execution_count": 39,
   "id": "a4c004ba",
   "metadata": {},
   "outputs": [
    {
     "data": {
      "text/plain": [
       "tensor([[0.4274, 0.3124],\n",
       "        [0.0995, 0.9278]])"
      ]
     },
     "execution_count": 39,
     "metadata": {},
     "output_type": "execute_result"
    }
   ],
   "source": [
    "x"
   ]
  },
  {
   "cell_type": "code",
   "execution_count": 40,
   "id": "9c9a56c9",
   "metadata": {},
   "outputs": [
    {
     "data": {
      "text/plain": [
       "tensor([[0.6522, 0.7023],\n",
       "        [0.3625, 0.3846]])"
      ]
     },
     "execution_count": 40,
     "metadata": {},
     "output_type": "execute_result"
    }
   ],
   "source": [
    "y"
   ]
  },
  {
   "cell_type": "code",
   "execution_count": 41,
   "id": "4058c7cf",
   "metadata": {},
   "outputs": [
    {
     "data": {
      "text/plain": [
       "tensor([[1.0796, 1.0147],\n",
       "        [0.4620, 1.3124]])"
      ]
     },
     "execution_count": 41,
     "metadata": {},
     "output_type": "execute_result"
    }
   ],
   "source": [
    "torch.add(x,y)"
   ]
  },
  {
   "cell_type": "code",
   "execution_count": 42,
   "id": "660fd160",
   "metadata": {},
   "outputs": [
    {
     "data": {
      "text/plain": [
       "tensor([[-0.2248, -0.3899],\n",
       "        [-0.2630,  0.5431]])"
      ]
     },
     "execution_count": 42,
     "metadata": {},
     "output_type": "execute_result"
    }
   ],
   "source": [
    "torch.sub(x,y)"
   ]
  },
  {
   "cell_type": "code",
   "execution_count": 43,
   "id": "91b25268",
   "metadata": {},
   "outputs": [
    {
     "data": {
      "text/plain": [
       "tensor([[0.2788, 0.2194],\n",
       "        [0.0361, 0.3568]])"
      ]
     },
     "execution_count": 43,
     "metadata": {},
     "output_type": "execute_result"
    }
   ],
   "source": [
    "torch.mul(x,y)"
   ]
  },
  {
   "cell_type": "code",
   "execution_count": 44,
   "id": "0c3d5c15",
   "metadata": {},
   "outputs": [
    {
     "data": {
      "text/plain": [
       "tensor([[0.6554, 0.4448],\n",
       "        [0.2744, 2.4122]])"
      ]
     },
     "execution_count": 44,
     "metadata": {},
     "output_type": "execute_result"
    }
   ],
   "source": [
    "torch.div(x,y)"
   ]
  },
  {
   "cell_type": "markdown",
   "id": "e0b1f353",
   "metadata": {},
   "source": [
    "### Indexing"
   ]
  },
  {
   "cell_type": "code",
   "execution_count": 47,
   "id": "c13ed57d",
   "metadata": {},
   "outputs": [],
   "source": [
    "x = torch.rand(5,4,3)"
   ]
  },
  {
   "cell_type": "code",
   "execution_count": 48,
   "id": "e64288ad",
   "metadata": {},
   "outputs": [
    {
     "data": {
      "text/plain": [
       "tensor([[[0.8071, 0.8538, 0.0141],\n",
       "         [0.4259, 0.9659, 0.1629],\n",
       "         [0.2645, 0.4679, 0.1196],\n",
       "         [0.8310, 0.2010, 0.9629]],\n",
       "\n",
       "        [[0.6560, 0.9673, 0.3029],\n",
       "         [0.6849, 0.5877, 0.3613],\n",
       "         [0.8584, 0.0116, 0.9308],\n",
       "         [0.1588, 0.1796, 0.0041]],\n",
       "\n",
       "        [[0.9610, 0.3153, 0.8468],\n",
       "         [0.6196, 0.5293, 0.8838],\n",
       "         [0.3099, 0.4402, 0.9073],\n",
       "         [0.4323, 0.9119, 0.8777]],\n",
       "\n",
       "        [[0.1370, 0.1210, 0.2619],\n",
       "         [0.9902, 0.0738, 0.2706],\n",
       "         [0.0050, 0.6665, 0.3645],\n",
       "         [0.0596, 0.4060, 0.8573]],\n",
       "\n",
       "        [[0.0887, 0.2522, 0.4678],\n",
       "         [0.6175, 0.6414, 0.7719],\n",
       "         [0.5347, 0.3289, 0.9395],\n",
       "         [0.4666, 0.3637, 0.9970]]])"
      ]
     },
     "execution_count": 48,
     "metadata": {},
     "output_type": "execute_result"
    }
   ],
   "source": [
    "x"
   ]
  },
  {
   "cell_type": "code",
   "execution_count": 54,
   "id": "a000fc60",
   "metadata": {},
   "outputs": [
    {
     "data": {
      "text/plain": [
       "tensor([[0.8071, 0.8538, 0.0141],\n",
       "        [0.4259, 0.9659, 0.1629],\n",
       "        [0.2645, 0.4679, 0.1196],\n",
       "        [0.8310, 0.2010, 0.9629]])"
      ]
     },
     "execution_count": 54,
     "metadata": {},
     "output_type": "execute_result"
    }
   ],
   "source": [
    "x[0]"
   ]
  },
  {
   "cell_type": "code",
   "execution_count": 52,
   "id": "97cb85c6",
   "metadata": {},
   "outputs": [
    {
     "data": {
      "text/plain": [
       "tensor([[0.8071, 0.8538, 0.0141],\n",
       "        [0.6560, 0.9673, 0.3029],\n",
       "        [0.9610, 0.3153, 0.8468],\n",
       "        [0.1370, 0.1210, 0.2619],\n",
       "        [0.0887, 0.2522, 0.4678]])"
      ]
     },
     "execution_count": 52,
     "metadata": {},
     "output_type": "execute_result"
    }
   ],
   "source": [
    "x[:,0]"
   ]
  },
  {
   "cell_type": "code",
   "execution_count": 53,
   "id": "fcb67bfc",
   "metadata": {},
   "outputs": [
    {
     "data": {
      "text/plain": [
       "tensor([[0.8071, 0.4259, 0.2645, 0.8310],\n",
       "        [0.6560, 0.6849, 0.8584, 0.1588],\n",
       "        [0.9610, 0.6196, 0.3099, 0.4323],\n",
       "        [0.1370, 0.9902, 0.0050, 0.0596],\n",
       "        [0.0887, 0.6175, 0.5347, 0.4666]])"
      ]
     },
     "execution_count": 53,
     "metadata": {},
     "output_type": "execute_result"
    }
   ],
   "source": [
    "x[:,:,0]"
   ]
  },
  {
   "cell_type": "markdown",
   "id": "6fe7aea9",
   "metadata": {},
   "source": [
    "### Reshape tensors"
   ]
  },
  {
   "cell_type": "code",
   "execution_count": 55,
   "id": "60af5dc6",
   "metadata": {},
   "outputs": [],
   "source": [
    "x = torch.rand(4,4)"
   ]
  },
  {
   "cell_type": "code",
   "execution_count": 56,
   "id": "b0312b35",
   "metadata": {},
   "outputs": [
    {
     "data": {
      "text/plain": [
       "tensor([[0.2498, 0.1761, 0.2081, 0.2488],\n",
       "        [0.3900, 0.3638, 0.2667, 0.7420],\n",
       "        [0.9190, 0.1749, 0.5448, 0.3520],\n",
       "        [0.8886, 0.2302, 0.1095, 0.0859]])"
      ]
     },
     "execution_count": 56,
     "metadata": {},
     "output_type": "execute_result"
    }
   ],
   "source": [
    "x"
   ]
  },
  {
   "cell_type": "code",
   "execution_count": 58,
   "id": "5b99bb32",
   "metadata": {},
   "outputs": [
    {
     "data": {
      "text/plain": [
       "tensor([[0.2498, 0.1761, 0.2081, 0.2488, 0.3900, 0.3638, 0.2667, 0.7420],\n",
       "        [0.9190, 0.1749, 0.5448, 0.3520, 0.8886, 0.2302, 0.1095, 0.0859]])"
      ]
     },
     "execution_count": 58,
     "metadata": {},
     "output_type": "execute_result"
    }
   ],
   "source": [
    "x.view(2,8)"
   ]
  },
  {
   "cell_type": "markdown",
   "id": "1f3e04b2",
   "metadata": {},
   "source": [
    "if not sure about the size put -1 as first size and second size element as required"
   ]
  },
  {
   "cell_type": "code",
   "execution_count": 61,
   "id": "e8cf6148",
   "metadata": {},
   "outputs": [
    {
     "data": {
      "text/plain": [
       "tensor([[0.2498, 0.1761, 0.2081, 0.2488, 0.3900, 0.3638, 0.2667, 0.7420],\n",
       "        [0.9190, 0.1749, 0.5448, 0.3520, 0.8886, 0.2302, 0.1095, 0.0859]])"
      ]
     },
     "execution_count": 61,
     "metadata": {},
     "output_type": "execute_result"
    }
   ],
   "source": [
    "x.view(-1,8)"
   ]
  },
  {
   "cell_type": "markdown",
   "id": "5cea5b1a",
   "metadata": {},
   "source": [
    "### Type conversion"
   ]
  },
  {
   "cell_type": "markdown",
   "id": "047c2a60",
   "metadata": {},
   "source": [
    "Torch to Numpy"
   ]
  },
  {
   "cell_type": "code",
   "execution_count": 62,
   "id": "407063f5",
   "metadata": {},
   "outputs": [],
   "source": [
    "x = torch.rand(3,4)"
   ]
  },
  {
   "cell_type": "code",
   "execution_count": 65,
   "id": "02a10b74",
   "metadata": {},
   "outputs": [],
   "source": [
    "y = x.numpy()"
   ]
  },
  {
   "cell_type": "code",
   "execution_count": 64,
   "id": "5ffc7a61",
   "metadata": {},
   "outputs": [
    {
     "data": {
      "text/plain": [
       "torch.Tensor"
      ]
     },
     "execution_count": 64,
     "metadata": {},
     "output_type": "execute_result"
    }
   ],
   "source": [
    "type(x)"
   ]
  },
  {
   "cell_type": "code",
   "execution_count": 66,
   "id": "7e405f8f",
   "metadata": {},
   "outputs": [
    {
     "data": {
      "text/plain": [
       "numpy.ndarray"
      ]
     },
     "execution_count": 66,
     "metadata": {},
     "output_type": "execute_result"
    }
   ],
   "source": [
    "type(y)"
   ]
  },
  {
   "cell_type": "markdown",
   "id": "b07a3371",
   "metadata": {},
   "source": [
    "Numpy to Torch"
   ]
  },
  {
   "cell_type": "code",
   "execution_count": 71,
   "id": "00a3fd52",
   "metadata": {},
   "outputs": [],
   "source": [
    "x = np.ones((6,4))"
   ]
  },
  {
   "cell_type": "code",
   "execution_count": 72,
   "id": "4e54163c",
   "metadata": {},
   "outputs": [
    {
     "data": {
      "text/plain": [
       "array([[1., 1., 1., 1.],\n",
       "       [1., 1., 1., 1.],\n",
       "       [1., 1., 1., 1.],\n",
       "       [1., 1., 1., 1.],\n",
       "       [1., 1., 1., 1.],\n",
       "       [1., 1., 1., 1.]])"
      ]
     },
     "execution_count": 72,
     "metadata": {},
     "output_type": "execute_result"
    }
   ],
   "source": [
    "x"
   ]
  },
  {
   "cell_type": "code",
   "execution_count": 73,
   "id": "f2affd78",
   "metadata": {},
   "outputs": [],
   "source": [
    "y = torch.from_numpy(x)"
   ]
  },
  {
   "cell_type": "code",
   "execution_count": 74,
   "id": "3813172d",
   "metadata": {},
   "outputs": [
    {
     "data": {
      "text/plain": [
       "tensor([[1., 1., 1., 1.],\n",
       "        [1., 1., 1., 1.],\n",
       "        [1., 1., 1., 1.],\n",
       "        [1., 1., 1., 1.],\n",
       "        [1., 1., 1., 1.],\n",
       "        [1., 1., 1., 1.]], dtype=torch.float64)"
      ]
     },
     "execution_count": 74,
     "metadata": {},
     "output_type": "execute_result"
    }
   ],
   "source": [
    "y"
   ]
  },
  {
   "cell_type": "code",
   "execution_count": 75,
   "id": "99837bd1",
   "metadata": {},
   "outputs": [
    {
     "data": {
      "text/plain": [
       "numpy.ndarray"
      ]
     },
     "execution_count": 75,
     "metadata": {},
     "output_type": "execute_result"
    }
   ],
   "source": [
    "type(x)"
   ]
  },
  {
   "cell_type": "code",
   "execution_count": 76,
   "id": "7c977652",
   "metadata": {},
   "outputs": [
    {
     "data": {
      "text/plain": [
       "torch.Tensor"
      ]
     },
     "execution_count": 76,
     "metadata": {},
     "output_type": "execute_result"
    }
   ],
   "source": [
    "type(y)"
   ]
  },
  {
   "cell_type": "markdown",
   "id": "9f07fcbc",
   "metadata": {},
   "source": [
    "Note: When GPU acceleration is available, conversion between numpy and cuda/mps(for mac) require"
   ]
  }
 ],
 "metadata": {
  "kernelspec": {
   "display_name": "Python 3 (ipykernel)",
   "language": "python",
   "name": "python3"
  },
  "language_info": {
   "codemirror_mode": {
    "name": "ipython",
    "version": 3
   },
   "file_extension": ".py",
   "mimetype": "text/x-python",
   "name": "python",
   "nbconvert_exporter": "python",
   "pygments_lexer": "ipython3",
   "version": "3.9.6"
  }
 },
 "nbformat": 4,
 "nbformat_minor": 5
}
