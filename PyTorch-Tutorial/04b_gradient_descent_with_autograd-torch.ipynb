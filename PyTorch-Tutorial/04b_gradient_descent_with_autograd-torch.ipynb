{
 "cells": [
  {
   "cell_type": "code",
   "execution_count": 1,
   "id": "38a80bf6",
   "metadata": {},
   "outputs": [],
   "source": [
    "import torch"
   ]
  },
  {
   "cell_type": "markdown",
   "id": "0dab88b4",
   "metadata": {},
   "source": [
    "f = w *x;\n",
    "\n",
    "lets assume w as 2;\n",
    "\n",
    "f = 2*x"
   ]
  },
  {
   "cell_type": "code",
   "execution_count": 2,
   "id": "1adc2d2c",
   "metadata": {},
   "outputs": [],
   "source": [
    "X = torch.tensor([1,2,3,4], dtype = torch.float32)"
   ]
  },
  {
   "cell_type": "code",
   "execution_count": 3,
   "id": "e97dfa44",
   "metadata": {},
   "outputs": [],
   "source": [
    "Y = torch.tensor([2,4,6,8], dtype = torch.float32) # since y = 2x"
   ]
  },
  {
   "cell_type": "code",
   "execution_count": 4,
   "id": "818086db",
   "metadata": {},
   "outputs": [],
   "source": [
    "w = torch.tensor(0.0, dtype = torch.float32, requires_grad = True) # initialize weight to zero"
   ]
  },
  {
   "cell_type": "markdown",
   "id": "b4fdce8b",
   "metadata": {},
   "source": [
    "### Forward pass"
   ]
  },
  {
   "cell_type": "code",
   "execution_count": 5,
   "id": "c5cc10a2",
   "metadata": {},
   "outputs": [],
   "source": [
    "def forward(x):\n",
    "    return w*x"
   ]
  },
  {
   "cell_type": "markdown",
   "id": "7b3ebcc4",
   "metadata": {},
   "source": [
    "### Loss MSE"
   ]
  },
  {
   "cell_type": "code",
   "execution_count": 6,
   "id": "0e13c9ed",
   "metadata": {},
   "outputs": [],
   "source": [
    "def loss(y, y_predicted):\n",
    "    return ((y_predicted - y)**2).mean()"
   ]
  },
  {
   "cell_type": "markdown",
   "id": "16d05e3d",
   "metadata": {},
   "source": [
    "### Gradient"
   ]
  },
  {
   "cell_type": "markdown",
   "id": "29a5da65",
   "metadata": {},
   "source": [
    "MSE = 1/N * (w*x - y) ** 2;\n",
    "\n",
    "dJ/dW = 1/N * 2*x (w*x - y)"
   ]
  },
  {
   "cell_type": "code",
   "execution_count": 7,
   "id": "f29e4c1a",
   "metadata": {},
   "outputs": [],
   "source": [
    "def gradient(x, y, y_predicted):\n",
    "    return np.dot(2*x, y_predicted - y).mean()"
   ]
  },
  {
   "cell_type": "markdown",
   "id": "8d035ea3",
   "metadata": {},
   "source": [
    "### Training"
   ]
  },
  {
   "cell_type": "code",
   "execution_count": 8,
   "id": "f4132fb2",
   "metadata": {},
   "outputs": [
    {
     "name": "stdout",
     "output_type": "stream",
     "text": [
      "prediction before training: f(5) = 0.000\n",
      "epoch 1: w = 0.300, loss = 30.00000000\n",
      "epoch 11: w = 1.665, loss = 1.16278565\n",
      "epoch 21: w = 1.934, loss = 0.04506890\n",
      "epoch 31: w = 1.987, loss = 0.00174685\n",
      "epoch 41: w = 1.997, loss = 0.00006770\n",
      "epoch 51: w = 1.999, loss = 0.00000262\n",
      "epoch 61: w = 2.000, loss = 0.00000010\n",
      "epoch 71: w = 2.000, loss = 0.00000000\n",
      "epoch 81: w = 2.000, loss = 0.00000000\n",
      "epoch 91: w = 2.000, loss = 0.00000000\n",
      "prediction after training: f(5) = 10.000\n"
     ]
    }
   ],
   "source": [
    "print(f\"prediction before training: f(5) = {forward(5):.3f}\")\n",
    "\n",
    "learning_rate = 0.01\n",
    "n_iters = 100\n",
    "\n",
    "for epoch in range(n_iters):\n",
    "    \n",
    "    # prediction = Forward pass\n",
    "    y_pred = forward(X)\n",
    "    \n",
    "    # loss\n",
    "    l = loss(Y,y_pred)\n",
    "    \n",
    "    # gradients\n",
    "    l.backward() # dl/dw\n",
    "    \n",
    "    # update weights\n",
    "    with torch.no_grad():\n",
    "        w -= learning_rate * w.grad\n",
    "    \n",
    "    # zero gradients\n",
    "    w.grad.zero_()\n",
    "    \n",
    "    if epoch % 10 == 0:\n",
    "        print(f\"epoch {epoch + 1}: w = {w:.3f}, loss = {l:.8f}\")\n",
    "        \n",
    "print(f\"prediction after training: f(5) = {forward(5):.3f}\")"
   ]
  },
  {
   "cell_type": "code",
   "execution_count": null,
   "id": "a84ba049",
   "metadata": {},
   "outputs": [],
   "source": []
  }
 ],
 "metadata": {
  "kernelspec": {
   "display_name": "Python 3 (ipykernel)",
   "language": "python",
   "name": "python3"
  },
  "language_info": {
   "codemirror_mode": {
    "name": "ipython",
    "version": 3
   },
   "file_extension": ".py",
   "mimetype": "text/x-python",
   "name": "python",
   "nbconvert_exporter": "python",
   "pygments_lexer": "ipython3",
   "version": "3.9.6"
  }
 },
 "nbformat": 4,
 "nbformat_minor": 5
}
