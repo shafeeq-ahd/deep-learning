{
 "cells": [
  {
   "cell_type": "code",
   "execution_count": 1,
   "id": "38a80bf6",
   "metadata": {},
   "outputs": [],
   "source": [
    "import torch"
   ]
  },
  {
   "cell_type": "code",
   "execution_count": 2,
   "id": "e3637999",
   "metadata": {},
   "outputs": [],
   "source": [
    "import torch.nn as nn"
   ]
  },
  {
   "cell_type": "code",
   "execution_count": 3,
   "id": "1adc2d2c",
   "metadata": {},
   "outputs": [],
   "source": [
    "X = torch.tensor([[1],[2],[3],[4]], dtype = torch.float32)"
   ]
  },
  {
   "cell_type": "code",
   "execution_count": 4,
   "id": "e97dfa44",
   "metadata": {},
   "outputs": [],
   "source": [
    "Y = torch.tensor([[2],[4],[6],[8]], dtype = torch.float32) # since y = 2x"
   ]
  },
  {
   "cell_type": "code",
   "execution_count": 5,
   "id": "57ed23ab",
   "metadata": {},
   "outputs": [],
   "source": [
    "n_samples, n_features = X.shape"
   ]
  },
  {
   "cell_type": "markdown",
   "id": "b4fdce8b",
   "metadata": {},
   "source": [
    "### Forward pass"
   ]
  },
  {
   "cell_type": "code",
   "execution_count": 6,
   "id": "87a683ab",
   "metadata": {},
   "outputs": [],
   "source": [
    "class LinearRegression(nn.Module):\n",
    "    \n",
    "    def __init__(self, input_dim, output_dim):\n",
    "        super(LinearRegression, self).__init__()\n",
    "        self.lin = nn.Linear(input_dim, output_dim)\n",
    "    \n",
    "    def forward(self, x):\n",
    "        return self.lin(x)"
   ]
  },
  {
   "cell_type": "code",
   "execution_count": 7,
   "id": "c5cc10a2",
   "metadata": {},
   "outputs": [],
   "source": [
    "X_test = torch.tensor([5], dtype = torch.float32)\n",
    "input_size = n_features\n",
    "output_size = n_features\n",
    "model = LinearRegression(input_size, output_size)"
   ]
  },
  {
   "cell_type": "markdown",
   "id": "7b3ebcc4",
   "metadata": {},
   "source": [
    "### Loss MSE"
   ]
  },
  {
   "cell_type": "code",
   "execution_count": 8,
   "id": "0e13c9ed",
   "metadata": {},
   "outputs": [],
   "source": [
    "learning_rate = 0.01\n",
    "n_iters = 200\n",
    "\n",
    "loss = nn.MSELoss()\n",
    "optimizer = torch.optim.SGD(model.parameters(), lr = learning_rate)"
   ]
  },
  {
   "cell_type": "markdown",
   "id": "8d035ea3",
   "metadata": {},
   "source": [
    "### Training"
   ]
  },
  {
   "cell_type": "code",
   "execution_count": 9,
   "id": "f4132fb2",
   "metadata": {},
   "outputs": [
    {
     "name": "stdout",
     "output_type": "stream",
     "text": [
      "prediction after training: f(X_test) = -0.439\n",
      "epoch 1: w = 0.144, loss = 31.19141388\n",
      "epoch 11: w = 1.430, loss = 0.95677459\n",
      "epoch 21: w = 1.645, loss = 0.16581404\n",
      "epoch 31: w = 1.687, loss = 0.13713953\n",
      "epoch 41: w = 1.701, loss = 0.12866515\n",
      "epoch 51: w = 1.711, loss = 0.12116350\n",
      "epoch 61: w = 1.720, loss = 0.11411076\n",
      "epoch 71: w = 1.728, loss = 0.10746887\n",
      "epoch 81: w = 1.736, loss = 0.10121370\n",
      "epoch 91: w = 1.744, loss = 0.09532255\n",
      "epoch 101: w = 1.751, loss = 0.08977429\n",
      "epoch 111: w = 1.759, loss = 0.08454892\n",
      "epoch 121: w = 1.766, loss = 0.07962776\n",
      "epoch 131: w = 1.773, loss = 0.07499303\n",
      "epoch 141: w = 1.779, loss = 0.07062800\n",
      "epoch 151: w = 1.786, loss = 0.06651714\n",
      "epoch 161: w = 1.792, loss = 0.06264545\n",
      "epoch 171: w = 1.798, loss = 0.05899919\n",
      "epoch 181: w = 1.804, loss = 0.05556513\n",
      "epoch 191: w = 1.810, loss = 0.05233096\n",
      "prediction after training: f(X_test) = 9.619\n"
     ]
    }
   ],
   "source": [
    "\n",
    "print(f\"prediction after training: f(X_test) = {model(X_test).item():.3f}\")\n",
    "\n",
    "for epoch in range(n_iters):\n",
    "    \n",
    "    # prediction = Forward pass\n",
    "    y_pred = model(X)\n",
    "    \n",
    "    # loss\n",
    "    l = loss(Y,y_pred)\n",
    "    \n",
    "    # gradients\n",
    "    l.backward() # dl/dw\n",
    "    \n",
    "    # update weights\n",
    "    optimizer.step()\n",
    "    \n",
    "    # zero gradients\n",
    "    optimizer.zero_grad()\n",
    "    \n",
    "    if epoch % 10 == 0:\n",
    "        [w,b] = model.parameters()\n",
    "        print(f\"epoch {epoch + 1}: w = {w[0][0].item():.3f}, loss = {l:.8f}\")\n",
    "        \n",
    "print(f\"prediction after training: f(X_test) = {model(X_test).item():.3f}\")"
   ]
  },
  {
   "cell_type": "code",
   "execution_count": null,
   "id": "a84ba049",
   "metadata": {},
   "outputs": [],
   "source": []
  }
 ],
 "metadata": {
  "kernelspec": {
   "display_name": "Python 3 (ipykernel)",
   "language": "python",
   "name": "python3"
  },
  "language_info": {
   "codemirror_mode": {
    "name": "ipython",
    "version": 3
   },
   "file_extension": ".py",
   "mimetype": "text/x-python",
   "name": "python",
   "nbconvert_exporter": "python",
   "pygments_lexer": "ipython3",
   "version": "3.9.6"
  }
 },
 "nbformat": 4,
 "nbformat_minor": 5
}
