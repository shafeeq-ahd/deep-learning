{
 "cells": [
  {
   "cell_type": "code",
   "execution_count": 48,
   "id": "0b9a56e5",
   "metadata": {},
   "outputs": [],
   "source": [
    "import torch"
   ]
  },
  {
   "cell_type": "code",
   "execution_count": 49,
   "id": "c7d20cc5",
   "metadata": {},
   "outputs": [],
   "source": [
    "import torchvision"
   ]
  },
  {
   "cell_type": "code",
   "execution_count": 50,
   "id": "c40ee365",
   "metadata": {},
   "outputs": [],
   "source": [
    "from torch.utils.data import Dataset, DataLoader"
   ]
  },
  {
   "cell_type": "code",
   "execution_count": 51,
   "id": "a58772e6",
   "metadata": {},
   "outputs": [],
   "source": [
    "import numpy as np"
   ]
  },
  {
   "cell_type": "code",
   "execution_count": 52,
   "id": "4d15386d",
   "metadata": {},
   "outputs": [],
   "source": [
    "import math"
   ]
  },
  {
   "cell_type": "code",
   "execution_count": 53,
   "id": "e3291023",
   "metadata": {},
   "outputs": [],
   "source": [
    "class WineDataset(Dataset):\n",
    "    \n",
    "    def __init__(self):\n",
    "        \n",
    "        xy = np.loadtxt('wine.csv', delimiter=',', dtype=np.float32, skiprows=1)\n",
    "        self.x = torch.from_numpy(xy[:,1:])\n",
    "        self.y = torch.from_numpy(xy[:,[0]])\n",
    "        self.n_samples = xy.shape[0]\n",
    "    \n",
    "    def __getitem__(self, index):\n",
    "        return self.x[index], self.y[index]\n",
    "    \n",
    "    def __len__(self):\n",
    "        return self.n_samples\n",
    "    "
   ]
  },
  {
   "cell_type": "code",
   "execution_count": 54,
   "id": "105d346d",
   "metadata": {},
   "outputs": [],
   "source": [
    "dataset = WineDataset()"
   ]
  },
  {
   "cell_type": "code",
   "execution_count": 55,
   "id": "bc8d4162",
   "metadata": {},
   "outputs": [
    {
     "data": {
      "text/plain": [
       "178"
      ]
     },
     "execution_count": 55,
     "metadata": {},
     "output_type": "execute_result"
    }
   ],
   "source": [
    "len(dataset)"
   ]
  },
  {
   "cell_type": "code",
   "execution_count": 58,
   "id": "a98d4319",
   "metadata": {},
   "outputs": [],
   "source": [
    "dataloader = DataLoader(dataset=dataset, batch_size=4, shuffle=True)"
   ]
  },
  {
   "cell_type": "code",
   "execution_count": 59,
   "id": "741fd1d9",
   "metadata": {},
   "outputs": [
    {
     "name": "stdout",
     "output_type": "stream",
     "text": [
      "epoch 1/2,step5/45,inputstorch.Size([4, 13])\n",
      "epoch 1/2,step10/45,inputstorch.Size([4, 13])\n",
      "epoch 1/2,step15/45,inputstorch.Size([4, 13])\n",
      "epoch 1/2,step20/45,inputstorch.Size([4, 13])\n",
      "epoch 1/2,step25/45,inputstorch.Size([4, 13])\n",
      "epoch 1/2,step30/45,inputstorch.Size([4, 13])\n",
      "epoch 1/2,step35/45,inputstorch.Size([4, 13])\n",
      "epoch 1/2,step40/45,inputstorch.Size([4, 13])\n",
      "epoch 1/2,step45/45,inputstorch.Size([2, 13])\n",
      "epoch 2/2,step5/45,inputstorch.Size([4, 13])\n",
      "epoch 2/2,step10/45,inputstorch.Size([4, 13])\n",
      "epoch 2/2,step15/45,inputstorch.Size([4, 13])\n",
      "epoch 2/2,step20/45,inputstorch.Size([4, 13])\n",
      "epoch 2/2,step25/45,inputstorch.Size([4, 13])\n",
      "epoch 2/2,step30/45,inputstorch.Size([4, 13])\n",
      "epoch 2/2,step35/45,inputstorch.Size([4, 13])\n",
      "epoch 2/2,step40/45,inputstorch.Size([4, 13])\n",
      "epoch 2/2,step45/45,inputstorch.Size([2, 13])\n"
     ]
    }
   ],
   "source": [
    "# training loop\n",
    "\n",
    "num_epochs = 2\n",
    "total_samples = len(dataset)\n",
    "n_iterations = math.ceil(total_samples/4)\n",
    "\n",
    "for epoch in range(num_epochs):\n",
    "    for i,(inputs, labels) in enumerate(dataloader):\n",
    "        if (i+1)%5==0:\n",
    "            print(f\"epoch {epoch+1}/{num_epochs},step{i+1}/{n_iterations},inputs{inputs.shape}\")"
   ]
  },
  {
   "cell_type": "code",
   "execution_count": 41,
   "id": "b0b0970a",
   "metadata": {},
   "outputs": [
    {
     "data": {
      "text/plain": [
       "45"
      ]
     },
     "execution_count": 41,
     "metadata": {},
     "output_type": "execute_result"
    }
   ],
   "source": [
    "n_iterations"
   ]
  },
  {
   "cell_type": "code",
   "execution_count": 42,
   "id": "f7bd895f",
   "metadata": {},
   "outputs": [
    {
     "data": {
      "text/plain": [
       "178"
      ]
     },
     "execution_count": 42,
     "metadata": {},
     "output_type": "execute_result"
    }
   ],
   "source": [
    "total_samples"
   ]
  },
  {
   "cell_type": "code",
   "execution_count": null,
   "id": "c2730f32",
   "metadata": {},
   "outputs": [],
   "source": []
  }
 ],
 "metadata": {
  "kernelspec": {
   "display_name": "Python 3 (ipykernel)",
   "language": "python",
   "name": "python3"
  },
  "language_info": {
   "codemirror_mode": {
    "name": "ipython",
    "version": 3
   },
   "file_extension": ".py",
   "mimetype": "text/x-python",
   "name": "python",
   "nbconvert_exporter": "python",
   "pygments_lexer": "ipython3",
   "version": "3.9.6"
  }
 },
 "nbformat": 4,
 "nbformat_minor": 5
}
